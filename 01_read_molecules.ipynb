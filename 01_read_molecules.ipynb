{
  "nbformat": 4,
  "nbformat_minor": 0,
  "metadata": {
    "colab": {
      "name": "01_read_molecules.ipynb",
      "provenance": [],
      "collapsed_sections": [],
      "authorship_tag": "ABX9TyNAoLr/3d5jz5JwxGIF8+nM",
      "include_colab_link": true
    },
    "kernelspec": {
      "name": "python3",
      "display_name": "Python 3"
    },
    "language_info": {
      "name": "python"
    }
  },
  "cells": [
    {
      "cell_type": "markdown",
      "metadata": {
        "id": "view-in-github",
        "colab_type": "text"
      },
      "source": [
        "<a href=\"https://colab.research.google.com/github/Yyyyyjkim/Molecule_analysis/blob/main/01_read_molecules.ipynb\" target=\"_parent\"><img src=\"https://colab.research.google.com/assets/colab-badge.svg\" alt=\"Open In Colab\"/></a>"
      ]
    },
    {
      "cell_type": "code",
      "execution_count": null,
      "metadata": {
        "colab": {
          "base_uri": "https://localhost:8080/"
        },
        "id": "VRI3CiOEVZnC",
        "outputId": "9f93fe6e-62f0-4d13-de68-eccaac5c6c5a"
      },
      "outputs": [
        {
          "output_type": "stream",
          "name": "stdout",
          "text": [
            "Looking in indexes: https://pypi.org/simple, https://us-python.pkg.dev/colab-wheels/public/simple/\n",
            "Collecting rdkit-pypi\n",
            "  Downloading rdkit_pypi-2022.3.4-cp37-cp37m-manylinux_2_17_x86_64.manylinux2014_x86_64.whl (22.7 MB)\n",
            "\u001b[K     |████████████████████████████████| 22.7 MB 5.3 MB/s \n",
            "\u001b[?25hRequirement already satisfied: Pillow in /usr/local/lib/python3.7/dist-packages (from rdkit-pypi) (7.1.2)\n",
            "Requirement already satisfied: numpy in /usr/local/lib/python3.7/dist-packages (from rdkit-pypi) (1.21.6)\n",
            "Installing collected packages: rdkit-pypi\n",
            "Successfully installed rdkit-pypi-2022.3.4\n"
          ]
        }
      ],
      "source": [
        "!pip install rdkit-pypi"
      ]
    },
    {
      "cell_type": "markdown",
      "source": [
        "# RDKIT - read molecules"
      ],
      "metadata": {
        "id": "pu8J02QEWCQP"
      }
    },
    {
      "cell_type": "code",
      "source": [
        "from rdkit import Chem\n",
        "from rdkit.Chem import Draw\n",
        "from rdkit.Chem.PropertyMol import PropertyMol"
      ],
      "metadata": {
        "id": "nbb0aud4V3fW"
      },
      "execution_count": null,
      "outputs": []
    },
    {
      "cell_type": "code",
      "source": [
        "mol = Chem.MolFromSmiles('CCC')"
      ],
      "metadata": {
        "id": "j_LAw_YMWDXz"
      },
      "execution_count": null,
      "outputs": []
    },
    {
      "cell_type": "code",
      "source": [
        "Draw.MolsToImage([mol])"
      ],
      "metadata": {
        "colab": {
          "base_uri": "https://localhost:8080/",
          "height": 217
        },
        "id": "g_Qs0o9RWE05",
        "outputId": "fd6ba8a1-d295-4b92-a740-5ca1f5a4f6c1"
      },
      "execution_count": null,
      "outputs": [
        {
          "output_type": "execute_result",
          "data": {
            "text/plain": [
              "<PIL.Image.Image image mode=RGBA size=200x200 at 0x7FE0B17DECD0>"
            ],
            "image/png": "[encoded data removed]"
          },
          "metadata": {},
          "execution_count": 4
        }
      ]
    },
    {
      "cell_type": "code",
      "source": [
        "Chem.MolToMolBlock(mol).split('\\n')"
      ],
      "metadata": {
        "colab": {
          "base_uri": "https://localhost:8080/"
        },
        "id": "JcIUDu_cWGH6",
        "outputId": "be303eb1-af49-42eb-9fbc-e319d11ebcc9"
      },
      "execution_count": null,
      "outputs": [
        {
          "output_type": "execute_result",
          "data": {
            "text/plain": [
              "['',\n",
              " '     RDKit          2D',\n",
              " '',\n",
              " '  3  2  0  0  0  0  0  0  0  0999 V2000',\n",
              " '    0.0000    0.0000    0.0000 C   0  0  0  0  0  0  0  0  0  0  0  0',\n",
              " '    1.2990    0.7500    0.0000 C   0  0  0  0  0  0  0  0  0  0  0  0',\n",
              " '    2.5981   -0.0000    0.0000 C   0  0  0  0  0  0  0  0  0  0  0  0',\n",
              " '  1  2  1  0',\n",
              " '  2  3  1  0',\n",
              " 'M  END',\n",
              " '']"
            ]
          },
          "metadata": {},
          "execution_count": 5
        }
      ]
    },
    {
      "cell_type": "code",
      "source": [
        "Chem.MolToJSON(mol)"
      ],
      "metadata": {
        "colab": {
          "base_uri": "https://localhost:8080/",
          "height": 71
        },
        "id": "ecfi3fpqWHmX",
        "outputId": "2ff23bd4-e805-46ba-ae2a-ce4feec26058"
      },
      "execution_count": null,
      "outputs": [
        {
          "output_type": "execute_result",
          "data": {
            "text/plain": [
              "'{\"commonchem\":{\"version\":10},\"defaults\":{\"atom\":{\"z\":6,\"impHs\":0,\"chg\":0,\"nRad\":0,\"isotope\":0,\"stereo\":\"unspecified\"},\"bond\":{\"bo\":1,\"stereo\":\"unspecified\"}},\"molecules\":[{\"atoms\":[{\"impHs\":3},{\"impHs\":2},{\"impHs\":3}],\"bonds\":[{\"atoms\":[0,1]},{\"atoms\":[1,2]}],\"extensions\":[{\"name\":\"rdkitRepresentation\",\"formatVersion\":2,\"toolkitVersion\":\"2022.03.4\",\"cipRanks\":[0,1,0]}]}]}'"
            ],
            "application/vnd.google.colaboratory.intrinsic+json": {
              "type": "string"
            }
          },
          "metadata": {},
          "execution_count": 6
        }
      ]
    },
    {
      "cell_type": "markdown",
      "source": [
        "# atom & bond info"
      ],
      "metadata": {
        "id": "8g82RF1WWJMU"
      }
    },
    {
      "cell_type": "code",
      "source": [
        "import re\n",
        "import pandas as pd"
      ],
      "metadata": {
        "id": "9a18RhTwWpKs"
      },
      "execution_count": null,
      "outputs": []
    },
    {
      "cell_type": "code",
      "source": [
        "# atom info list\n",
        "atom_info = [prop for prop in mol.GetAtoms()[0].__dir__() if re.match('^Get', prop)]\n",
        "\n",
        "# atom\n",
        "atom_result = pd.DataFrame(index=range(mol.GetNumAtoms()), columns = atom_info)\n",
        "\n",
        "for i, atom in enumerate(mol.GetAtoms()):\n",
        "    list_temp = []\n",
        "    for _, prop in enumerate(atom_info):\n",
        "        try:\n",
        "            func = getattr(atom, prop)\n",
        "            prop_value = func()\n",
        "            list_temp.append(prop_value)\n",
        "\n",
        "        except:\n",
        "            list_temp.append(None)\n",
        "\n",
        "    atom_result.iloc[i,:] = list_temp"
      ],
      "metadata": {
        "colab": {
          "base_uri": "https://localhost:8080/"
        },
        "id": "cc-UCJPgWZSc",
        "outputId": "1f57b651-7e11-471c-8122-8fde4ccc861f"
      },
      "execution_count": null,
      "outputs": [
        {
          "output_type": "stream",
          "name": "stderr",
          "text": [
            "/usr/local/lib/python3.7/dist-packages/pandas/core/internals/blocks.py:937: VisibleDeprecationWarning: Creating an ndarray from ragged nested sequences (which is a list-or-tuple of lists-or-tuples-or ndarrays with different lengths or shapes) is deprecated. If you meant to do this, you must specify 'dtype=object' when creating the ndarray.\n",
            "  arr_value = np.asarray(value)\n"
          ]
        }
      ]
    },
    {
      "cell_type": "code",
      "source": [
        "atom_result"
      ],
      "metadata": {
        "colab": {
          "base_uri": "https://localhost:8080/",
          "height": 341
        },
        "id": "v7nqsHjfaAgb",
        "outputId": "9b528637-539b-4e73-c28f-52b39bff5495"
      },
      "execution_count": null,
      "outputs": [
        {
          "output_type": "execute_result",
          "data": {
            "text/plain": [
              "  GetAtomicNum GetSymbol GetIdx GetDegree GetTotalDegree GetTotalNumHs  \\\n",
              "0            6         C      0         1              4             3   \n",
              "1            6         C      1         2              4             2   \n",
              "2            6         C      2         1              4             3   \n",
              "\n",
              "  GetNumImplicitHs GetExplicitValence GetImplicitValence GetTotalValence  ...  \\\n",
              "0                3                  1                  3               4  ...   \n",
              "1                2                  2                  2               4  ...   \n",
              "2                3                  1                  3               4  ...   \n",
              "\n",
              "  GetIntProp GetUnsignedProp GetDoubleProp GetBoolProp GetExplicitBitVectProp  \\\n",
              "0       None            None          None        None                   None   \n",
              "1       None            None          None        None                   None   \n",
              "2       None            None          None        None                   None   \n",
              "\n",
              "  GetPropNames                                    GetPropsAsDict  \\\n",
              "0           []  {'__computedProps': ['_CIPRank'], '_CIPRank': 0}   \n",
              "1           []  {'__computedProps': ['_CIPRank'], '_CIPRank': 1}   \n",
              "2           []  {'__computedProps': ['_CIPRank'], '_CIPRank': 0}   \n",
              "\n",
              "  GetMonomerInfo GetPDBResidueInfo GetAtomMapNum  \n",
              "0           None              None             0  \n",
              "1           None              None             0  \n",
              "2           None              None             0  \n",
              "\n",
              "[3 rows x 35 columns]"
            ],
            "text/html": [
              "\n",
              "  <div id=\"df-0b1176f3-228f-4371-8df3-e9f6b2c3cd4f\">\n",
              "    <div class=\"colab-df-container\">\n",
              "      <div>\n",
              "<style scoped>\n",
              "    .dataframe tbody tr th:only-of-type {\n",
              "        vertical-align: middle;\n",
              "    }\n",
              "\n",
              "    .dataframe tbody tr th {\n",
              "        vertical-align: top;\n",
              "    }\n",
              "\n",
              "    .dataframe thead th {\n",
              "        text-align: right;\n",
              "    }\n",
              "</style>\n",
              "<table border=\"1\" class=\"dataframe\">\n",
              "  <thead>\n",
              "    <tr style=\"text-align: right;\">\n",
              "      <th></th>\n",
              "      <th>GetAtomicNum</th>\n",
              "      <th>GetSymbol</th>\n",
              "      <th>GetIdx</th>\n",
              "      <th>GetDegree</th>\n",
              "      <th>GetTotalDegree</th>\n",
              "      <th>GetTotalNumHs</th>\n",
              "      <th>GetNumImplicitHs</th>\n",
              "      <th>GetExplicitValence</th>\n",
              "      <th>GetImplicitValence</th>\n",
              "      <th>GetTotalValence</th>\n",
              "      <th>...</th>\n",
              "      <th>GetIntProp</th>\n",
              "      <th>GetUnsignedProp</th>\n",
              "      <th>GetDoubleProp</th>\n",
              "      <th>GetBoolProp</th>\n",
              "      <th>GetExplicitBitVectProp</th>\n",
              "      <th>GetPropNames</th>\n",
              "      <th>GetPropsAsDict</th>\n",
              "      <th>GetMonomerInfo</th>\n",
              "      <th>GetPDBResidueInfo</th>\n",
              "      <th>GetAtomMapNum</th>\n",
              "    </tr>\n",
              "  </thead>\n",
              "  <tbody>\n",
              "    <tr>\n",
              "      <th>0</th>\n",
              "      <td>6</td>\n",
              "      <td>C</td>\n",
              "      <td>0</td>\n",
              "      <td>1</td>\n",
              "      <td>4</td>\n",
              "      <td>3</td>\n",
              "      <td>3</td>\n",
              "      <td>1</td>\n",
              "      <td>3</td>\n",
              "      <td>4</td>\n",
              "      <td>...</td>\n",
              "      <td>None</td>\n",
              "      <td>None</td>\n",
              "      <td>None</td>\n",
              "      <td>None</td>\n",
              "      <td>None</td>\n",
              "      <td>[]</td>\n",
              "      <td>{'__computedProps': ['_CIPRank'], '_CIPRank': 0}</td>\n",
              "      <td>None</td>\n",
              "      <td>None</td>\n",
              "      <td>0</td>\n",
              "    </tr>\n",
              "    <tr>\n",
              "      <th>1</th>\n",
              "      <td>6</td>\n",
              "      <td>C</td>\n",
              "      <td>1</td>\n",
              "      <td>2</td>\n",
              "      <td>4</td>\n",
              "      <td>2</td>\n",
              "      <td>2</td>\n",
              "      <td>2</td>\n",
              "      <td>2</td>\n",
              "      <td>4</td>\n",
              "      <td>...</td>\n",
              "      <td>None</td>\n",
              "      <td>None</td>\n",
              "      <td>None</td>\n",
              "      <td>None</td>\n",
              "      <td>None</td>\n",
              "      <td>[]</td>\n",
              "      <td>{'__computedProps': ['_CIPRank'], '_CIPRank': 1}</td>\n",
              "      <td>None</td>\n",
              "      <td>None</td>\n",
              "      <td>0</td>\n",
              "    </tr>\n",
              "    <tr>\n",
              "      <th>2</th>\n",
              "      <td>6</td>\n",
              "      <td>C</td>\n",
              "      <td>2</td>\n",
              "      <td>1</td>\n",
              "      <td>4</td>\n",
              "      <td>3</td>\n",
              "      <td>3</td>\n",
              "      <td>1</td>\n",
              "      <td>3</td>\n",
              "      <td>4</td>\n",
              "      <td>...</td>\n",
              "      <td>None</td>\n",
              "      <td>None</td>\n",
              "      <td>None</td>\n",
              "      <td>None</td>\n",
              "      <td>None</td>\n",
              "      <td>[]</td>\n",
              "      <td>{'__computedProps': ['_CIPRank'], '_CIPRank': 0}</td>\n",
              "      <td>None</td>\n",
              "      <td>None</td>\n",
              "      <td>0</td>\n",
              "    </tr>\n",
              "  </tbody>\n",
              "</table>\n",
              "<p>3 rows × 35 columns</p>\n",
              "</div>\n",
              "      <button class=\"colab-df-convert\" onclick=\"convertToInteractive('df-0b1176f3-228f-4371-8df3-e9f6b2c3cd4f')\"\n",
              "              title=\"Convert this dataframe to an interactive table.\"\n",
              "              style=\"display:none;\">\n",
              "        \n",
              "  <svg xmlns=\"http://www.w3.org/2000/svg\" height=\"24px\"viewBox=\"0 0 24 24\"\n",
              "       width=\"24px\">\n",
              "    <path d=\"M0 0h24v24H0V0z\" fill=\"none\"/>\n",
              "    <path d=\"M18.56 5.44l.94 2.06.94-2.06 2.06-.94-2.06-.94-.94-2.06-.94 2.06-2.06.94zm-11 1L8.5 8.5l.94-2.06 2.06-.94-2.06-.94L8.5 2.5l-.94 2.06-2.06.94zm10 10l.94 2.06.94-2.06 2.06-.94-2.06-.94-.94-2.06-.94 2.06-2.06.94z\"/><path d=\"M17.41 7.96l-1.37-1.37c-.4-.4-.92-.59-1.43-.59-.52 0-1.04.2-1.43.59L10.3 9.45l-7.72 7.72c-.78.78-.78 2.05 0 2.83L4 21.41c.39.39.9.59 1.41.59.51 0 1.02-.2 1.41-.59l7.78-7.78 2.81-2.81c.8-.78.8-2.07 0-2.86zM5.41 20L4 18.59l7.72-7.72 1.47 1.35L5.41 20z\"/>\n",
              "  </svg>\n",
              "      </button>\n",
              "      \n",
              "  <style>\n",
              "    .colab-df-container {\n",
              "      display:flex;\n",
              "      flex-wrap:wrap;\n",
              "      gap: 12px;\n",
              "    }\n",
              "\n",
              "    .colab-df-convert {\n",
              "      background-color: #E8F0FE;\n",
              "      border: none;\n",
              "      border-radius: 50%;\n",
              "      cursor: pointer;\n",
              "      display: none;\n",
              "      fill: #1967D2;\n",
              "      height: 32px;\n",
              "      padding: 0 0 0 0;\n",
              "      width: 32px;\n",
              "    }\n",
              "\n",
              "    .colab-df-convert:hover {\n",
              "      background-color: #E2EBFA;\n",
              "      box-shadow: 0px 1px 2px rgba(60, 64, 67, 0.3), 0px 1px 3px 1px rgba(60, 64, 67, 0.15);\n",
              "      fill: #174EA6;\n",
              "    }\n",
              "\n",
              "    [theme=dark] .colab-df-convert {\n",
              "      background-color: #3B4455;\n",
              "      fill: #D2E3FC;\n",
              "    }\n",
              "\n",
              "    [theme=dark] .colab-df-convert:hover {\n",
              "      background-color: #434B5C;\n",
              "      box-shadow: 0px 1px 3px 1px rgba(0, 0, 0, 0.15);\n",
              "      filter: drop-shadow(0px 1px 2px rgba(0, 0, 0, 0.3));\n",
              "      fill: #FFFFFF;\n",
              "    }\n",
              "  </style>\n",
              "\n",
              "      <script>\n",
              "        const buttonEl =\n",
              "          document.querySelector('#df-0b1176f3-228f-4371-8df3-e9f6b2c3cd4f button.colab-df-convert');\n",
              "        buttonEl.style.display =\n",
              "          google.colab.kernel.accessAllowed ? 'block' : 'none';\n",
              "\n",
              "        async function convertToInteractive(key) {\n",
              "          const element = document.querySelector('#df-0b1176f3-228f-4371-8df3-e9f6b2c3cd4f');\n",
              "          const dataTable =\n",
              "            await google.colab.kernel.invokeFunction('convertToInteractive',\n",
              "                                                     [key], {});\n",
              "          if (!dataTable) return;\n",
              "\n",
              "          const docLinkHtml = 'Like what you see? Visit the ' +\n",
              "            '<a target=\"_blank\" href=https://colab.research.google.com/notebooks/data_table.ipynb>data table notebook</a>'\n",
              "            + ' to learn more about interactive tables.';\n",
              "          element.innerHTML = '';\n",
              "          dataTable['output_type'] = 'display_data';\n",
              "          await google.colab.output.renderOutput(dataTable, element);\n",
              "          const docLink = document.createElement('div');\n",
              "          docLink.innerHTML = docLinkHtml;\n",
              "          element.appendChild(docLink);\n",
              "        }\n",
              "      </script>\n",
              "    </div>\n",
              "  </div>\n",
              "  "
            ]
          },
          "metadata": {},
          "execution_count": 90
        }
      ]
    },
    {
      "cell_type": "code",
      "source": [
        "# bond info list\n",
        "bond_info = [prop for prop in mol.GetBonds()[0].__dir__() if re.match('^Get', prop)]\n",
        "\n",
        "# bond\n",
        "bond_result = pd.DataFrame(index=range(mol.GetNumBonds()), columns = bond_info)\n",
        "\n",
        "for i, bond in enumerate(mol.GetBonds()):\n",
        "    list_temp = []\n",
        "    for _, prop in enumerate(bond_info):\n",
        "        try:\n",
        "            func = getattr(bond, prop)\n",
        "            prop_value = func()\n",
        "            list_temp.append(prop_value)\n",
        "\n",
        "        except:\n",
        "            list_temp.append(None)\n",
        "\n",
        "    bond_result.iloc[i,:] = list_temp"
      ],
      "metadata": {
        "colab": {
          "base_uri": "https://localhost:8080/"
        },
        "id": "MEoyI1b5bDIE",
        "outputId": "bda4da77-7247-42df-a12d-8203fb0d1762"
      },
      "execution_count": null,
      "outputs": [
        {
          "output_type": "stream",
          "name": "stderr",
          "text": [
            "/usr/local/lib/python3.7/dist-packages/pandas/core/internals/blocks.py:937: VisibleDeprecationWarning: Creating an ndarray from ragged nested sequences (which is a list-or-tuple of lists-or-tuples-or ndarrays with different lengths or shapes) is deprecated. If you meant to do this, you must specify 'dtype=object' when creating the ndarray.\n",
            "  arr_value = np.asarray(value)\n"
          ]
        }
      ]
    },
    {
      "cell_type": "code",
      "source": [
        "bond_result"
      ],
      "metadata": {
        "colab": {
          "base_uri": "https://localhost:8080/",
          "height": 275
        },
        "id": "xi4wwvdRWbv8",
        "outputId": "00f32edb-d3b3-4515-a279-a02ab7694ae2"
      },
      "execution_count": null,
      "outputs": [
        {
          "output_type": "execute_result",
          "data": {
            "text/plain": [
              "                                       GetOwningMol GetBondType  \\\n",
              "0  <rdkit.Chem.rdchem.Mol object at 0x7fe0a1fc0030>      SINGLE   \n",
              "1  <rdkit.Chem.rdchem.Mol object at 0x7fe0a1fc0120>      SINGLE   \n",
              "\n",
              "  GetBondTypeAsDouble GetBondDir   GetStereo GetStereoAtoms GetValenceContrib  \\\n",
              "0                 1.0       NONE  STEREONONE             []              None   \n",
              "1                 1.0       NONE  STEREONONE             []              None   \n",
              "\n",
              "  GetIsAromatic GetIsConjugated GetIdx  ...  \\\n",
              "0         False           False      0  ...   \n",
              "1         False           False      1  ...   \n",
              "\n",
              "                                          GetEndAtom GetOtherAtom GetSmarts  \\\n",
              "0  <rdkit.Chem.rdchem.Atom object at 0x7fe0a1fc0850>         None             \n",
              "1  <rdkit.Chem.rdchem.Atom object at 0x7fe0a1fcbb70>         None             \n",
              "\n",
              "  GetProp GetIntProp GetUnsignedProp GetDoubleProp GetBoolProp GetPropNames  \\\n",
              "0    None       None            None          None        None           []   \n",
              "1    None       None            None          None        None           []   \n",
              "\n",
              "  GetPropsAsDict  \n",
              "0             {}  \n",
              "1             {}  \n",
              "\n",
              "[2 rows x 24 columns]"
            ],
            "text/html": [
              "\n",
              "  <div id=\"df-59056ca8-b682-4dd7-b0ca-f57a4b055c9c\">\n",
              "    <div class=\"colab-df-container\">\n",
              "      <div>\n",
              "<style scoped>\n",
              "    .dataframe tbody tr th:only-of-type {\n",
              "        vertical-align: middle;\n",
              "    }\n",
              "\n",
              "    .dataframe tbody tr th {\n",
              "        vertical-align: top;\n",
              "    }\n",
              "\n",
              "    .dataframe thead th {\n",
              "        text-align: right;\n",
              "    }\n",
              "</style>\n",
              "<table border=\"1\" class=\"dataframe\">\n",
              "  <thead>\n",
              "    <tr style=\"text-align: right;\">\n",
              "      <th></th>\n",
              "      <th>GetOwningMol</th>\n",
              "      <th>GetBondType</th>\n",
              "      <th>GetBondTypeAsDouble</th>\n",
              "      <th>GetBondDir</th>\n",
              "      <th>GetStereo</th>\n",
              "      <th>GetStereoAtoms</th>\n",
              "      <th>GetValenceContrib</th>\n",
              "      <th>GetIsAromatic</th>\n",
              "      <th>GetIsConjugated</th>\n",
              "      <th>GetIdx</th>\n",
              "      <th>...</th>\n",
              "      <th>GetEndAtom</th>\n",
              "      <th>GetOtherAtom</th>\n",
              "      <th>GetSmarts</th>\n",
              "      <th>GetProp</th>\n",
              "      <th>GetIntProp</th>\n",
              "      <th>GetUnsignedProp</th>\n",
              "      <th>GetDoubleProp</th>\n",
              "      <th>GetBoolProp</th>\n",
              "      <th>GetPropNames</th>\n",
              "      <th>GetPropsAsDict</th>\n",
              "    </tr>\n",
              "  </thead>\n",
              "  <tbody>\n",
              "    <tr>\n",
              "      <th>0</th>\n",
              "      <td>&lt;rdkit.Chem.rdchem.Mol object at 0x7fe0a1fc0030&gt;</td>\n",
              "      <td>SINGLE</td>\n",
              "      <td>1.0</td>\n",
              "      <td>NONE</td>\n",
              "      <td>STEREONONE</td>\n",
              "      <td>[]</td>\n",
              "      <td>None</td>\n",
              "      <td>False</td>\n",
              "      <td>False</td>\n",
              "      <td>0</td>\n",
              "      <td>...</td>\n",
              "      <td>&lt;rdkit.Chem.rdchem.Atom object at 0x7fe0a1fc0850&gt;</td>\n",
              "      <td>None</td>\n",
              "      <td></td>\n",
              "      <td>None</td>\n",
              "      <td>None</td>\n",
              "      <td>None</td>\n",
              "      <td>None</td>\n",
              "      <td>None</td>\n",
              "      <td>[]</td>\n",
              "      <td>{}</td>\n",
              "    </tr>\n",
              "    <tr>\n",
              "      <th>1</th>\n",
              "      <td>&lt;rdkit.Chem.rdchem.Mol object at 0x7fe0a1fc0120&gt;</td>\n",
              "      <td>SINGLE</td>\n",
              "      <td>1.0</td>\n",
              "      <td>NONE</td>\n",
              "      <td>STEREONONE</td>\n",
              "      <td>[]</td>\n",
              "      <td>None</td>\n",
              "      <td>False</td>\n",
              "      <td>False</td>\n",
              "      <td>1</td>\n",
              "      <td>...</td>\n",
              "      <td>&lt;rdkit.Chem.rdchem.Atom object at 0x7fe0a1fcbb70&gt;</td>\n",
              "      <td>None</td>\n",
              "      <td></td>\n",
              "      <td>None</td>\n",
              "      <td>None</td>\n",
              "      <td>None</td>\n",
              "      <td>None</td>\n",
              "      <td>None</td>\n",
              "      <td>[]</td>\n",
              "      <td>{}</td>\n",
              "    </tr>\n",
              "  </tbody>\n",
              "</table>\n",
              "<p>2 rows × 24 columns</p>\n",
              "</div>\n",
              "      <button class=\"colab-df-convert\" onclick=\"convertToInteractive('df-59056ca8-b682-4dd7-b0ca-f57a4b055c9c')\"\n",
              "              title=\"Convert this dataframe to an interactive table.\"\n",
              "              style=\"display:none;\">\n",
              "        \n",
              "  <svg xmlns=\"http://www.w3.org/2000/svg\" height=\"24px\"viewBox=\"0 0 24 24\"\n",
              "       width=\"24px\">\n",
              "    <path d=\"M0 0h24v24H0V0z\" fill=\"none\"/>\n",
              "    <path d=\"M18.56 5.44l.94 2.06.94-2.06 2.06-.94-2.06-.94-.94-2.06-.94 2.06-2.06.94zm-11 1L8.5 8.5l.94-2.06 2.06-.94-2.06-.94L8.5 2.5l-.94 2.06-2.06.94zm10 10l.94 2.06.94-2.06 2.06-.94-2.06-.94-.94-2.06-.94 2.06-2.06.94z\"/><path d=\"M17.41 7.96l-1.37-1.37c-.4-.4-.92-.59-1.43-.59-.52 0-1.04.2-1.43.59L10.3 9.45l-7.72 7.72c-.78.78-.78 2.05 0 2.83L4 21.41c.39.39.9.59 1.41.59.51 0 1.02-.2 1.41-.59l7.78-7.78 2.81-2.81c.8-.78.8-2.07 0-2.86zM5.41 20L4 18.59l7.72-7.72 1.47 1.35L5.41 20z\"/>\n",
              "  </svg>\n",
              "      </button>\n",
              "      \n",
              "  <style>\n",
              "    .colab-df-container {\n",
              "      display:flex;\n",
              "      flex-wrap:wrap;\n",
              "      gap: 12px;\n",
              "    }\n",
              "\n",
              "    .colab-df-convert {\n",
              "      background-color: #E8F0FE;\n",
              "      border: none;\n",
              "      border-radius: 50%;\n",
              "      cursor: pointer;\n",
              "      display: none;\n",
              "      fill: #1967D2;\n",
              "      height: 32px;\n",
              "      padding: 0 0 0 0;\n",
              "      width: 32px;\n",
              "    }\n",
              "\n",
              "    .colab-df-convert:hover {\n",
              "      background-color: #E2EBFA;\n",
              "      box-shadow: 0px 1px 2px rgba(60, 64, 67, 0.3), 0px 1px 3px 1px rgba(60, 64, 67, 0.15);\n",
              "      fill: #174EA6;\n",
              "    }\n",
              "\n",
              "    [theme=dark] .colab-df-convert {\n",
              "      background-color: #3B4455;\n",
              "      fill: #D2E3FC;\n",
              "    }\n",
              "\n",
              "    [theme=dark] .colab-df-convert:hover {\n",
              "      background-color: #434B5C;\n",
              "      box-shadow: 0px 1px 3px 1px rgba(0, 0, 0, 0.15);\n",
              "      filter: drop-shadow(0px 1px 2px rgba(0, 0, 0, 0.3));\n",
              "      fill: #FFFFFF;\n",
              "    }\n",
              "  </style>\n",
              "\n",
              "      <script>\n",
              "        const buttonEl =\n",
              "          document.querySelector('#df-59056ca8-b682-4dd7-b0ca-f57a4b055c9c button.colab-df-convert');\n",
              "        buttonEl.style.display =\n",
              "          google.colab.kernel.accessAllowed ? 'block' : 'none';\n",
              "\n",
              "        async function convertToInteractive(key) {\n",
              "          const element = document.querySelector('#df-59056ca8-b682-4dd7-b0ca-f57a4b055c9c');\n",
              "          const dataTable =\n",
              "            await google.colab.kernel.invokeFunction('convertToInteractive',\n",
              "                                                     [key], {});\n",
              "          if (!dataTable) return;\n",
              "\n",
              "          const docLinkHtml = 'Like what you see? Visit the ' +\n",
              "            '<a target=\"_blank\" href=https://colab.research.google.com/notebooks/data_table.ipynb>data table notebook</a>'\n",
              "            + ' to learn more about interactive tables.';\n",
              "          element.innerHTML = '';\n",
              "          dataTable['output_type'] = 'display_data';\n",
              "          await google.colab.output.renderOutput(dataTable, element);\n",
              "          const docLink = document.createElement('div');\n",
              "          docLink.innerHTML = docLinkHtml;\n",
              "          element.appendChild(docLink);\n",
              "        }\n",
              "      </script>\n",
              "    </div>\n",
              "  </div>\n",
              "  "
            ]
          },
          "metadata": {},
          "execution_count": 95
        }
      ]
    },
    {
      "cell_type": "markdown",
      "source": [
        "# 3D optimization"
      ],
      "metadata": {
        "id": "w7IH9rl-duGU"
      }
    },
    {
      "cell_type": "code",
      "source": [
        "!pip install openbabel_wheel \n",
        "# !pip install openbabel"
      ],
      "metadata": {
        "colab": {
          "base_uri": "https://localhost:8080/"
        },
        "id": "PMyBenXsd0JL",
        "outputId": "7ce5652d-3b88-45c1-95e2-2e12a058e380"
      },
      "execution_count": null,
      "outputs": [
        {
          "output_type": "stream",
          "name": "stdout",
          "text": [
            "Looking in indexes: https://pypi.org/simple, https://us-python.pkg.dev/colab-wheels/public/simple/\n",
            "Collecting openbabel_wheel\n",
            "  Downloading openbabel_wheel-3.1.1.7-cp37-cp37m-manylinux_2_24_x86_64.whl (23.8 MB)\n",
            "\u001b[K     |████████████████████████████████| 23.8 MB 85.9 MB/s \n",
            "\u001b[?25hInstalling collected packages: openbabel-wheel\n",
            "Successfully installed openbabel-wheel-3.1.1.7\n"
          ]
        }
      ]
    },
    {
      "cell_type": "code",
      "source": [
        "from openbabel import pybel as pb"
      ],
      "metadata": {
        "id": "1s-19hXIdvsy"
      },
      "execution_count": null,
      "outputs": []
    },
    {
      "cell_type": "code",
      "source": [
        "molecule = pb.readstring('smiles', 'CCC')\n",
        "molecule"
      ],
      "metadata": {
        "colab": {
          "base_uri": "https://localhost:8080/",
          "height": 122
        },
        "id": "YMBmga2Ff1Zy",
        "outputId": "2fefc4f0-85b8-4930-abca-ea0134a772a3"
      },
      "execution_count": null,
      "outputs": [
        {
          "output_type": "execute_result",
          "data": {
            "text/plain": [
              "<openbabel.pybel.Molecule at 0x7fe08cb46f10>"
            ],
            "image/svg+xml": "<svg xmlns=\"http://www.w3.org/2000/svg\" font-family=\"sans-serif\" height=\"100\" stroke=\"rgb(0,0,0)\" stroke-linecap=\"round\" stroke-width=\"2\" viewBox=\"0 0 149.282 100\" width=\"100\" x=\"0\" y=\"0\">\n<line opacity=\"1.0\" stroke=\"rgb(0,0,0)\" stroke-width=\"2.0\" x1=\"98.0\" x2=\"74.6\" y1=\"53.5\" y2=\"40.0\" />\n<line opacity=\"1.0\" stroke=\"rgb(0,0,0)\" stroke-width=\"2.0\" x1=\"74.6\" x2=\"51.3\" y1=\"40.0\" y2=\"53.5\" />\n<text fill=\"rgb(102,102,102)\" font-size=\"16\" font-weight=\"bold\" stroke-width=\"0\" x=\"105.282032\" y=\"68.000000\">CH</text>\n<text fill=\"rgb(102,102,102)\" font-size=\"13\" font-weight=\"bold\" stroke-width=\"0\" x=\"129.282032\" y=\"71.680000\">3</text>\n<text fill=\"rgb(102,102,102)\" font-size=\"16\" font-weight=\"bold\" stroke-width=\"0\" x=\"14.000000\" y=\"68.000000\">H</text>\n<text fill=\"rgb(102,102,102)\" font-size=\"13\" font-weight=\"bold\" stroke-width=\"0\" x=\"26.000000\" y=\"71.680000\">3</text>\n<text fill=\"rgb(102,102,102)\" font-size=\"16\" font-weight=\"bold\" stroke-width=\"0\" x=\"32.500000\" y=\"68.000000\">C</text>\n</svg>\n"
          },
          "metadata": {},
          "execution_count": 121
        }
      ]
    },
    {
      "cell_type": "code",
      "source": [
        "molecule.localopt(forcefield='mmff94', steps=500) # forcefield = ['mmff94', 'uff', 'ghemical']\n",
        "molecule"
      ],
      "metadata": {
        "colab": {
          "base_uri": "https://localhost:8080/",
          "height": 122
        },
        "id": "5D92h5FWf65m",
        "outputId": "546a53c4-4e5f-4869-b233-d47548801301"
      },
      "execution_count": null,
      "outputs": [
        {
          "output_type": "execute_result",
          "data": {
            "text/plain": [
              "<openbabel.pybel.Molecule at 0x7fe08cb46f10>"
            ],
            "image/svg+xml": "<svg xmlns=\"http://www.w3.org/2000/svg\" font-family=\"sans-serif\" height=\"100\" stroke=\"rgb(0,0,0)\" stroke-linecap=\"round\" stroke-width=\"2\" viewBox=\"0 0 214.641 194.641\" width=\"100\" x=\"0\" y=\"0\">\n<line opacity=\"1.0\" stroke=\"rgb(0,0,0)\" stroke-width=\"2.0\" x1=\"80.0\" x2=\"100.0\" y1=\"114.6\" y2=\"80.0\" />\n<line opacity=\"1.0\" stroke=\"rgb(0,0,0)\" stroke-width=\"2.0\" x1=\"100.0\" x2=\"140.0\" y1=\"80.0\" y2=\"80.0\" />\n<line opacity=\"1.0\" stroke=\"rgb(0,0,0)\" stroke-width=\"2.0\" x1=\"80.0\" x2=\"80.0\" y1=\"114.6\" y2=\"141.6\" />\n<line opacity=\"1.0\" stroke=\"rgb(0,0,0)\" stroke-width=\"2.0\" x1=\"80.0\" x2=\"103.4\" y1=\"114.6\" y2=\"128.1\" />\n<line opacity=\"1.0\" stroke=\"rgb(0,0,0)\" stroke-width=\"2.0\" x1=\"80.0\" x2=\"53.0\" y1=\"114.6\" y2=\"114.6\" />\n<line opacity=\"1.0\" stroke=\"rgb(0,0,0)\" stroke-width=\"2.0\" x1=\"100.0\" x2=\"100.0\" y1=\"80.0\" y2=\"53.0\" />\n<line opacity=\"1.0\" stroke=\"rgb(0,0,0)\" stroke-width=\"2.0\" x1=\"100.0\" x2=\"76.6\" y1=\"80.0\" y2=\"66.5\" />\n<line opacity=\"1.0\" stroke=\"rgb(0,0,0)\" stroke-width=\"2.0\" x1=\"140.0\" x2=\"163.4\" y1=\"80.0\" y2=\"66.5\" />\n<line opacity=\"1.0\" stroke=\"rgb(0,0,0)\" stroke-width=\"2.0\" x1=\"140.0\" x2=\"140.0\" y1=\"80.0\" y2=\"53.0\" />\n<line opacity=\"1.0\" stroke=\"rgb(0,0,0)\" stroke-width=\"2.0\" x1=\"140.0\" x2=\"153.5\" y1=\"80.0\" y2=\"103.4\" />\n<text fill=\"rgb(191,191,191)\" font-size=\"16\" font-weight=\"bold\" stroke-width=\"0\" x=\"74.000000\" y=\"162.641016\">H</text>\n<text fill=\"rgb(191,191,191)\" font-size=\"16\" font-weight=\"bold\" stroke-width=\"0\" x=\"108.641016\" y=\"142.641016\">H</text>\n<text fill=\"rgb(191,191,191)\" font-size=\"16\" font-weight=\"bold\" stroke-width=\"0\" x=\"34.000000\" y=\"122.641016\">H</text>\n<text fill=\"rgb(191,191,191)\" font-size=\"16\" font-weight=\"bold\" stroke-width=\"0\" x=\"94.000000\" y=\"48.000000\">H</text>\n<text fill=\"rgb(191,191,191)\" font-size=\"16\" font-weight=\"bold\" stroke-width=\"0\" x=\"59.358984\" y=\"68.000000\">H</text>\n<text fill=\"rgb(191,191,191)\" font-size=\"16\" font-weight=\"bold\" stroke-width=\"0\" x=\"168.641016\" y=\"68.000000\">H</text>\n<text fill=\"rgb(191,191,191)\" font-size=\"16\" font-weight=\"bold\" stroke-width=\"0\" x=\"134.000000\" y=\"48.000000\">H</text>\n<text fill=\"rgb(191,191,191)\" font-size=\"16\" font-weight=\"bold\" stroke-width=\"0\" x=\"154.000000\" y=\"122.641016\">H</text>\n</svg>\n"
          },
          "metadata": {},
          "execution_count": 123
        }
      ]
    },
    {
      "cell_type": "markdown",
      "source": [
        "# write molecules"
      ],
      "metadata": {
        "id": "zfzYhqwFckos"
      }
    },
    {
      "cell_type": "code",
      "source": [
        "# SDF 저장\n",
        "writer = Chem.SDWriter('mol_temp.sdf')\n",
        "writer.write(mol)"
      ],
      "metadata": {
        "id": "P0kW8tH5cpUq"
      },
      "execution_count": null,
      "outputs": []
    },
    {
      "cell_type": "code",
      "source": [
        ""
      ],
      "metadata": {
        "id": "0RZ8AkELcsSD"
      },
      "execution_count": null,
      "outputs": []
    }
  ]
}